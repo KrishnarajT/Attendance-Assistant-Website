{
 "cells": [
  {
   "cell_type": "code",
   "execution_count": 1,
   "metadata": {},
   "outputs": [],
   "source": [
    "import cv2"
   ]
  },
  {
   "cell_type": "code",
   "execution_count": 2,
   "metadata": {},
   "outputs": [
    {
     "name": "stderr",
     "output_type": "stream",
     "text": [
      "[ WARN:0@33.755] global cap_ffmpeg_impl.hpp:453 _opencv_ffmpeg_interrupt_callback Stream timeout triggered after 30023.609744 ms\n"
     ]
    },
    {
     "ename": "KeyboardInterrupt",
     "evalue": "",
     "output_type": "error",
     "traceback": [
      "\u001b[0;31m---------------------------------------------------------------------------\u001b[0m",
      "\u001b[0;31mKeyboardInterrupt\u001b[0m                         Traceback (most recent call last)",
      "\u001b[1;32m/run/media/krishnaraj/Programs/JavaScript/Attendence-Assistant/backend/drone/test.ipynb Cell 2\u001b[0m line \u001b[0;36m1\n\u001b[1;32m     <a href='vscode-notebook-cell:/run/media/krishnaraj/Programs/JavaScript/Attendence-Assistant/backend/drone/test.ipynb#W0sZmlsZQ%3D%3D?line=9'>10</a>\u001b[0m scale \u001b[39m=\u001b[39m \u001b[39m3\u001b[39m\n\u001b[1;32m     <a href='vscode-notebook-cell:/run/media/krishnaraj/Programs/JavaScript/Attendence-Assistant/backend/drone/test.ipynb#W0sZmlsZQ%3D%3D?line=11'>12</a>\u001b[0m \u001b[39mwhile\u001b[39;00m \u001b[39mTrue\u001b[39;00m:\n\u001b[1;32m     <a href='vscode-notebook-cell:/run/media/krishnaraj/Programs/JavaScript/Attendence-Assistant/backend/drone/test.ipynb#W0sZmlsZQ%3D%3D?line=12'>13</a>\u001b[0m     \u001b[39m# Capture frame-by-framestreamon\u001b[39;00m\n\u001b[0;32m---> <a href='vscode-notebook-cell:/run/media/krishnaraj/Programs/JavaScript/Attendence-Assistant/backend/drone/test.ipynb#W0sZmlsZQ%3D%3D?line=13'>14</a>\u001b[0m     ret, frame \u001b[39m=\u001b[39m telloVideo\u001b[39m.\u001b[39;49mread()\n\u001b[1;32m     <a href='vscode-notebook-cell:/run/media/krishnaraj/Programs/JavaScript/Attendence-Assistant/backend/drone/test.ipynb#W0sZmlsZQ%3D%3D?line=14'>15</a>\u001b[0m     \u001b[39mif\u001b[39;00m ret:\n\u001b[1;32m     <a href='vscode-notebook-cell:/run/media/krishnaraj/Programs/JavaScript/Attendence-Assistant/backend/drone/test.ipynb#W0sZmlsZQ%3D%3D?line=15'>16</a>\u001b[0m         \u001b[39m# Our operations on the frame come here\u001b[39;00m\n\u001b[1;32m     <a href='vscode-notebook-cell:/run/media/krishnaraj/Programs/JavaScript/Attendence-Assistant/backend/drone/test.ipynb#W0sZmlsZQ%3D%3D?line=16'>17</a>\u001b[0m         height, width, layers \u001b[39m=\u001b[39m frame\u001b[39m.\u001b[39mshape\n",
      "\u001b[0;31mKeyboardInterrupt\u001b[0m: "
     ]
    }
   ],
   "source": [
    "# import opencv 4.2.0\n",
    "import cv2\n",
    "\n",
    "telloVideo = cv2.VideoCapture(\"udp://@0.0.0.0:11111\")\n",
    "\n",
    "\n",
    "# wait for frame\n",
    "ret = False\n",
    "# scale down\n",
    "scale = 3\n",
    "\n",
    "while True:\n",
    "    # Capture frame-by-framestreamon\n",
    "    ret, frame = telloVideo.read()\n",
    "    if ret:\n",
    "        # Our operations on the frame come here\n",
    "        height, width, layers = frame.shape\n",
    "        new_h = int(height / scale)\n",
    "        new_w = int(width / scale)\n",
    "        resize = cv2.resize(frame, (new_w, new_h))  # <- resize for improved performance\n",
    "        # Display the resulting frame\n",
    "        cv2.imshow(\"Tello\", resize)\n",
    "\n",
    "    if cv2.waitKey(1) & 0xFF == ord(\"s\"):\n",
    "        cv2.imwrite(\"test.jpg\", resize)  # writes image test.bmp to disk\n",
    "        print(\"Take Picture\")\n",
    "\n",
    "    if cv2.waitKey(1) & 0xFF == ord(\"q\"):\n",
    "        break\n",
    "\n",
    "# When everything done, release the capture\n",
    "telloVideo.release()\n",
    "cv2.destroyAllWindows()"
   ]
  },
  {
   "cell_type": "code",
   "execution_count": 3,
   "metadata": {},
   "outputs": [],
   "source": [
    "from djitellopy import tello\n",
    "import cv2"
   ]
  },
  {
   "cell_type": "code",
   "execution_count": 8,
   "metadata": {},
   "outputs": [
    {
     "name": "stderr",
     "output_type": "stream",
     "text": [
      "[INFO] tello.py - 129 - Tello instance was initialized. Host: '192.168.10.1'. Port: '8889'.\n",
      "[INFO] tello.py - 438 - Send command: 'command'\n",
      "[INFO] tello.py - 462 - Response command: 'ok'\n",
      "[INFO] tello.py - 438 - Send command: 'streamon'\n",
      "[INFO] tello.py - 462 - Response streamon: 'ok'\n",
      "non-existing PPS 0 referenced\n",
      "non-existing PPS 0 referenced\n",
      "decode_slice_header error\n",
      "no frame!\n",
      "non-existing PPS 0 referenced\n",
      "non-existing PPS 0 referenced\n",
      "decode_slice_header error\n",
      "no frame!\n",
      "non-existing PPS 0 referenced\n",
      "non-existing PPS 0 referenced\n",
      "decode_slice_header error\n",
      "no frame!\n",
      "non-existing PPS 0 referenced\n",
      "non-existing PPS 0 referenced\n",
      "decode_slice_header error\n",
      "no frame!\n",
      "non-existing PPS 0 referenced\n",
      "non-existing PPS 0 referenced\n",
      "decode_slice_header error\n",
      "no frame!\n",
      "non-existing PPS 0 referenced\n",
      "non-existing PPS 0 referenced\n",
      "decode_slice_header error\n",
      "no frame!\n",
      "non-existing PPS 0 referenced\n",
      "non-existing PPS 0 referenced\n",
      "decode_slice_header error\n",
      "no frame!\n",
      "non-existing PPS 0 referenced\n",
      "non-existing PPS 0 referenced\n",
      "decode_slice_header error\n",
      "no frame!\n",
      "non-existing PPS 0 referenced\n",
      "non-existing PPS 0 referenced\n",
      "decode_slice_header error\n",
      "no frame!\n",
      "non-existing PPS 0 referenced\n",
      "non-existing PPS 0 referenced\n",
      "decode_slice_header error\n",
      "no frame!\n",
      "non-existing PPS 0 referenced\n",
      "non-existing PPS 0 referenced\n",
      "decode_slice_header error\n",
      "no frame!\n",
      "non-existing PPS 0 referenced\n",
      "non-existing PPS 0 referenced\n",
      "decode_slice_header error\n",
      "no frame!\n",
      "non-existing PPS 0 referenced\n",
      "non-existing PPS 0 referenced\n",
      "decode_slice_header error\n",
      "no frame!\n",
      "non-existing PPS 0 referenced\n",
      "non-existing PPS 0 referenced\n",
      "decode_slice_header error\n",
      "no frame!\n",
      "non-existing PPS 0 referenced\n",
      "non-existing PPS 0 referenced\n",
      "decode_slice_header error\n",
      "no frame!\n",
      "non-existing PPS 0 referenced\n",
      "non-existing PPS 0 referenced\n",
      "decode_slice_header error\n",
      "no frame!\n",
      "Warning: Ignoring XDG_SESSION_TYPE=wayland on Gnome. Use QT_QPA_PLATFORM=wayland to run on Wayland anyway.\n"
     ]
    }
   ],
   "source": [
    "me = tello.Tello()\n",
    "me.connect()\n",
    "me.streamon()\n",
    "while True:\n",
    "    img = me.get_frame_read().frame\n",
    "    cv2.imshow(\"Tello\", img)\n",
    "    if cv2.waitKey(1) & 0xFF == ord(\"q\"):\n",
    "        me.stream_off()\n",
    "        break"
   ]
  },
  {
   "cell_type": "code",
   "execution_count": null,
   "metadata": {},
   "outputs": [],
   "source": []
  }
 ],
 "metadata": {
  "kernelspec": {
   "display_name": "AttenEnv",
   "language": "python",
   "name": "python3"
  },
  "language_info": {
   "codemirror_mode": {
    "name": "ipython",
    "version": 3
   },
   "file_extension": ".py",
   "mimetype": "text/x-python",
   "name": "python",
   "nbconvert_exporter": "python",
   "pygments_lexer": "ipython3",
   "version": "3.11.6"
  }
 },
 "nbformat": 4,
 "nbformat_minor": 2
}
